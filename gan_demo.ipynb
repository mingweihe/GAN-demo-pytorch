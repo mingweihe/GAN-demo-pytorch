{
 "cells": [
  {
   "cell_type": "markdown",
   "metadata": {},
   "source": [
    "# Generate a curve artwork by using GAN"
   ]
  },
  {
   "cell_type": "code",
   "execution_count": 1,
   "metadata": {},
   "outputs": [],
   "source": [
    "import sys\n",
    "# !python --version\n",
    "# !python3 --version\n",
    "# !{sys.executable} --version\n",
    "# !{sys.executable} -m pip install torch\n",
    "# !{sys.executable} -m pip install torchsummary\n",
    "# !{sys.executable} -m pip install tqdm\n",
    "import torch\n",
    "import torch.nn as nn\n",
    "import numpy as np\n",
    "import matplotlib.pyplot as plt\n",
    "from torchsummary import summary\n",
    "import ipywidgets as widgets\n",
    "from ipywidgets import IntSlider\n",
    "from IPython.display import clear_output\n",
    "from ipywidgets.widgets.interaction import show_inline_matplotlib_plots\n",
    "%matplotlib inline\n",
    "# from tqdm import tqdm"
   ]
  },
  {
   "cell_type": "code",
   "execution_count": 2,
   "metadata": {},
   "outputs": [],
   "source": [
    "# hyper parameters\n",
    "BATCH_SIZE = 64\n",
    "LR_G = .0001\n",
    "LR_D = .0001\n",
    "N_IDEAS = 5 # input size\n",
    "ART_COMPONENTS = 20 # output size\n",
    "PAINT_POINTS = np.vstack([np.linspace(-1, 1, ART_COMPONENTS) for _ in range(BATCH_SIZE)])\n",
    "TOTAL_STEPS = 10000\n",
    "SHOW_INTERVAL = TOTAL_STEPS / 100"
   ]
  },
  {
   "cell_type": "code",
   "execution_count": 3,
   "metadata": {},
   "outputs": [],
   "source": [
    "def artist_works():\n",
    "    # artwork 1\n",
    "#     paintings = np.tan(np.tan(PAINT_POINTS * np.pi))\n",
    "    # artwork 2\n",
    "#     paintings = np.sin(np.exp(PAINT_POINTS*2))**2\n",
    "    # artwork 3\n",
    "    paintings = np.sin(PAINT_POINTS*np.pi)\n",
    "    # artwork 4\n",
    "#     paintings = np.exp(PAINT_POINTS*np.pi)\n",
    "    # artwork 5\n",
    "#     paintings = np.arccos(np.sin(PAINT_POINTS*np.e)) + np.sin(np.cos(PAINT_POINTS*np.pi))\n",
    "    r = .05 * np.random.randn(1, ART_COMPONENTS)\n",
    "    paintings += r\n",
    "    paintings = torch.from_numpy(paintings).float()\n",
    "    return paintings"
   ]
  },
  {
   "cell_type": "code",
   "execution_count": 4,
   "metadata": {},
   "outputs": [
    {
     "data": {
      "image/png": "[encoded data removed]",
      "text/plain": [
       "<matplotlib.figure.Figure at 0x11fc11f28>"
      ]
     },
     "metadata": {},
     "output_type": "display_data"
    }
   ],
   "source": [
    "# show one of the paintings\n",
    "plt.plot(PAINT_POINTS[0], artist_works()[0])\n",
    "plt.show()"
   ]
  },
  {
   "cell_type": "code",
   "execution_count": 5,
   "metadata": {},
   "outputs": [],
   "source": [
    "G = nn.Sequential(\n",
    "    nn.Linear(N_IDEAS, 128),\n",
    "    nn.ReLU(),\n",
    "    nn.Linear(128, ART_COMPONENTS),\n",
    ")\n",
    "\n",
    "D = nn.Sequential(\n",
    "    nn.Linear(ART_COMPONENTS, 128),\n",
    "    nn.ReLU(),\n",
    "    nn.Linear(128, 1),\n",
    "    nn.Sigmoid(),\n",
    ")"
   ]
  },
  {
   "cell_type": "code",
   "execution_count": 6,
   "metadata": {
    "scrolled": true
   },
   "outputs": [
    {
     "name": "stdout",
     "output_type": "stream",
     "text": [
      "----------------------------------------------------------------\n",
      "        Layer (type)               Output Shape         Param #\n",
      "================================================================\n",
      "            Linear-1               [-1, 1, 128]             768\n",
      "              ReLU-2               [-1, 1, 128]               0\n",
      "            Linear-3                [-1, 1, 20]           2,580\n",
      "================================================================\n",
      "Total params: 3,348\n",
      "Trainable params: 3,348\n",
      "Non-trainable params: 0\n",
      "----------------------------------------------------------------\n",
      "Input size (MB): 0.00\n",
      "Forward/backward pass size (MB): 0.00\n",
      "Params size (MB): 0.01\n",
      "Estimated Total Size (MB): 0.01\n",
      "----------------------------------------------------------------\n"
     ]
    }
   ],
   "source": [
    "summary(G, (1, N_IDEAS))"
   ]
  },
  {
   "cell_type": "code",
   "execution_count": 7,
   "metadata": {},
   "outputs": [
    {
     "name": "stdout",
     "output_type": "stream",
     "text": [
      "----------------------------------------------------------------\n",
      "        Layer (type)               Output Shape         Param #\n",
      "================================================================\n",
      "            Linear-1               [-1, 1, 128]           2,688\n",
      "              ReLU-2               [-1, 1, 128]               0\n",
      "            Linear-3                 [-1, 1, 1]             129\n",
      "           Sigmoid-4                 [-1, 1, 1]               0\n",
      "================================================================\n",
      "Total params: 2,817\n",
      "Trainable params: 2,817\n",
      "Non-trainable params: 0\n",
      "----------------------------------------------------------------\n",
      "Input size (MB): 0.00\n",
      "Forward/backward pass size (MB): 0.00\n",
      "Params size (MB): 0.01\n",
      "Estimated Total Size (MB): 0.01\n",
      "----------------------------------------------------------------\n"
     ]
    }
   ],
   "source": [
    "summary(D, (1, ART_COMPONENTS))"
   ]
  },
  {
   "cell_type": "code",
   "execution_count": 8,
   "metadata": {
    "scrolled": false
   },
   "outputs": [
    {
     "data": {
      "image/png": "[encoded data removed]",
      "text/plain": [
       "<matplotlib.figure.Figure at 0x1265edef0>"
      ]
     },
     "metadata": {},
     "output_type": "display_data"
    }
   ],
   "source": [
    "opt_D = torch.optim.Adam(D.parameters(), lr=LR_D)\n",
    "opt_G = torch.optim.Adam(G.parameters(), lr=LR_G)\n",
    "plt.ion()\n",
    "D_loss_history = []\n",
    "G_loss_history = []\n",
    "for step in range(TOTAL_STEPS):\n",
    "    artist_paintings = artist_works()\n",
    "    G_ideas = torch.randn(BATCH_SIZE, N_IDEAS)\n",
    "    G_paintings = G(G_ideas)\n",
    "    prob_artist0 = D(artist_paintings)\n",
    "    prob_artist1 = D(G_paintings)\n",
    "    D_loss = -torch.mean(torch.log(prob_artist0) + torch.log(1. -prob_artist1))\n",
    "    G_loss = torch.mean(torch.log(1. -prob_artist1))\n",
    "    D_loss_history.append(D_loss)\n",
    "    G_loss_history.append(G_loss)\n",
    "    opt_D.zero_grad() \n",
    "    D_loss.backward(retain_graph=True)\n",
    "    opt_D.step() # update the network parameters\n",
    "    opt_G.zero_grad()\n",
    "    G_loss.backward()\n",
    "    opt_G.step()\n",
    "    # plotting\n",
    "    if step % SHOW_INTERVAL == 0:\n",
    "        plt.cla()\n",
    "        plt.plot(PAINT_POINTS[0], G_paintings.data.numpy()[0], label='Generated paiting')\n",
    "        plt.plot(PAINT_POINTS[0], artist_paintings[0], label='Artist\\'s paiting')\n",
    "        plt.text(-1, 1, 'D accuracy=%.2f' % prob_artist0.data.numpy().mean())\n",
    "        plt.text(-1, .83, 'D loss=%.2f' % D_loss.data.numpy())\n",
    "        plt.text(-1, .66, 'G loss=%.2f' % G_loss.data.numpy())\n",
    "        plt.ylim((-1.5, 1.5))\n",
    "        plt.text(.45, -.9, 'cur step: %d' % step)\n",
    "        plt.legend(loc='lower right')\n",
    "        clear_output(wait=True)\n",
    "        plt.show()\n",
    "plt.ioff()\n",
    "plt.show()"
   ]
  },
  {
   "cell_type": "code",
   "execution_count": 9,
   "metadata": {
    "scrolled": true
   },
   "outputs": [
    {
     "data": {
      "image/png": "[encoded data removed]",
      "text/plain": [
       "<matplotlib.figure.Figure at 0x11fc3d7f0>"
      ]
     },
     "metadata": {},
     "output_type": "display_data"
    }
   ],
   "source": [
    "# discriminator loss\n",
    "plt.plot(D_loss_history, label='Discriminator loss')\n",
    "plt.legend(loc='best')\n",
    "plt.show()"
   ]
  },
  {
   "cell_type": "code",
   "execution_count": 10,
   "metadata": {},
   "outputs": [
    {
     "data": {
      "image/png": "[encoded data removed]",
      "text/plain": [
       "<matplotlib.figure.Figure at 0x126334f28>"
      ]
     },
     "metadata": {},
     "output_type": "display_data"
    }
   ],
   "source": [
    "# generator loss\n",
    "plt.plot(G_loss_history, label='Generator loss')\n",
    "plt.legend(loc='best')\n",
    "plt.show()"
   ]
  },
  {
   "cell_type": "code",
   "execution_count": 11,
   "metadata": {},
   "outputs": [],
   "source": [
    "# define the slider\n",
    "def slider(value, ideas_, idx, model):\n",
    "    int_range = widgets.FloatSlider(continuous_update=False,\n",
    "    min=-10, max=10, value=value)\n",
    "    output = widgets.Output()\n",
    "    display(int_range, output)\n",
    "    def on_value_change(change):\n",
    "        with output:\n",
    "            clear_output(wait=True)\n",
    "            ideas_[idx] = change['new']\n",
    "            ideas_tensor = torch.from_numpy(ideas_)\n",
    "            res = model(ideas_tensor)\n",
    "            plt.plot(res.data.numpy())\n",
    "            show_inline_matplotlib_plots()\n",
    "    int_range.observe(on_value_change, names='value')"
   ]
  },
  {
   "cell_type": "code",
   "execution_count": 12,
   "metadata": {
    "scrolled": false
   },
   "outputs": [
    {
     "data": {
      "application/vnd.jupyter.widget-view+json": {
       "model_id": "5d9aa15927e142a397ccd2e231baa0c2",
       "version_major": 2,
       "version_minor": 0
      },
      "text/html": [
       "<p>Failed to display Jupyter Widget of type <code>FloatSlider</code>.</p>\n",
       "<p>\n",
       "  If you're reading this message in the Jupyter Notebook or JupyterLab Notebook, it may mean\n",
       "  that the widgets JavaScript is still loading. If this message persists, it\n",
       "  likely means that the widgets JavaScript library is either not installed or\n",
       "  not enabled. See the <a href=\"https://ipywidgets.readthedocs.io/en/stable/user_install.html\">Jupyter\n",
       "  Widgets Documentation</a> for setup instructions.\n",
       "</p>\n",
       "<p>\n",
       "  If you're reading this message in another frontend (for example, a static\n",
       "  rendering on GitHub or <a href=\"https://nbviewer.jupyter.org/\">NBViewer</a>),\n",
       "  it may mean that your frontend doesn't currently support widgets.\n",
       "</p>\n"
      ],
      "text/plain": [
       "FloatSlider(value=-1.3798211812973022, continuous_update=False, max=10.0, min=-10.0)"
      ]
     },
     "metadata": {},
     "output_type": "display_data"
    },
    {
     "data": {
      "application/vnd.jupyter.widget-view+json": {
       "model_id": "984733bcea5443f9b939ca49e219d2fd",
       "version_major": 2,
       "version_minor": 0
      },
      "text/html": [
       "<p>Failed to display Jupyter Widget of type <code>Output</code>.</p>\n",
       "<p>\n",
       "  If you're reading this message in the Jupyter Notebook or JupyterLab Notebook, it may mean\n",
       "  that the widgets JavaScript is still loading. If this message persists, it\n",
       "  likely means that the widgets JavaScript library is either not installed or\n",
       "  not enabled. See the <a href=\"https://ipywidgets.readthedocs.io/en/stable/user_install.html\">Jupyter\n",
       "  Widgets Documentation</a> for setup instructions.\n",
       "</p>\n",
       "<p>\n",
       "  If you're reading this message in another frontend (for example, a static\n",
       "  rendering on GitHub or <a href=\"https://nbviewer.jupyter.org/\">NBViewer</a>),\n",
       "  it may mean that your frontend doesn't currently support widgets.\n",
       "</p>\n"
      ],
      "text/plain": [
       "Output()"
      ]
     },
     "metadata": {},
     "output_type": "display_data"
    },
    {
     "data": {
      "application/vnd.jupyter.widget-view+json": {
       "model_id": "0d05d4bb4c074b47a639a6888ff32b1e",
       "version_major": 2,
       "version_minor": 0
      },
      "text/html": [
       "<p>Failed to display Jupyter Widget of type <code>FloatSlider</code>.</p>\n",
       "<p>\n",
       "  If you're reading this message in the Jupyter Notebook or JupyterLab Notebook, it may mean\n",
       "  that the widgets JavaScript is still loading. If this message persists, it\n",
       "  likely means that the widgets JavaScript library is either not installed or\n",
       "  not enabled. See the <a href=\"https://ipywidgets.readthedocs.io/en/stable/user_install.html\">Jupyter\n",
       "  Widgets Documentation</a> for setup instructions.\n",
       "</p>\n",
       "<p>\n",
       "  If you're reading this message in another frontend (for example, a static\n",
       "  rendering on GitHub or <a href=\"https://nbviewer.jupyter.org/\">NBViewer</a>),\n",
       "  it may mean that your frontend doesn't currently support widgets.\n",
       "</p>\n"
      ],
      "text/plain": [
       "FloatSlider(value=-1.3480135202407837, continuous_update=False, max=10.0, min=-10.0)"
      ]
     },
     "metadata": {},
     "output_type": "display_data"
    },
    {
     "data": {
      "application/vnd.jupyter.widget-view+json": {
       "model_id": "b41f10baa45d4309ac3e5e73f7ea9f70",
       "version_major": 2,
       "version_minor": 0
      },
      "text/html": [
       "<p>Failed to display Jupyter Widget of type <code>Output</code>.</p>\n",
       "<p>\n",
       "  If you're reading this message in the Jupyter Notebook or JupyterLab Notebook, it may mean\n",
       "  that the widgets JavaScript is still loading. If this message persists, it\n",
       "  likely means that the widgets JavaScript library is either not installed or\n",
       "  not enabled. See the <a href=\"https://ipywidgets.readthedocs.io/en/stable/user_install.html\">Jupyter\n",
       "  Widgets Documentation</a> for setup instructions.\n",
       "</p>\n",
       "<p>\n",
       "  If you're reading this message in another frontend (for example, a static\n",
       "  rendering on GitHub or <a href=\"https://nbviewer.jupyter.org/\">NBViewer</a>),\n",
       "  it may mean that your frontend doesn't currently support widgets.\n",
       "</p>\n"
      ],
      "text/plain": [
       "Output()"
      ]
     },
     "metadata": {},
     "output_type": "display_data"
    },
    {
     "data": {
      "application/vnd.jupyter.widget-view+json": {
       "model_id": "241fbaa340c94902a37be1e721537e3b",
       "version_major": 2,
       "version_minor": 0
      },
      "text/html": [
       "<p>Failed to display Jupyter Widget of type <code>FloatSlider</code>.</p>\n",
       "<p>\n",
       "  If you're reading this message in the Jupyter Notebook or JupyterLab Notebook, it may mean\n",
       "  that the widgets JavaScript is still loading. If this message persists, it\n",
       "  likely means that the widgets JavaScript library is either not installed or\n",
       "  not enabled. See the <a href=\"https://ipywidgets.readthedocs.io/en/stable/user_install.html\">Jupyter\n",
       "  Widgets Documentation</a> for setup instructions.\n",
       "</p>\n",
       "<p>\n",
       "  If you're reading this message in another frontend (for example, a static\n",
       "  rendering on GitHub or <a href=\"https://nbviewer.jupyter.org/\">NBViewer</a>),\n",
       "  it may mean that your frontend doesn't currently support widgets.\n",
       "</p>\n"
      ],
      "text/plain": [
       "FloatSlider(value=1.2908846139907837, continuous_update=False, max=10.0, min=-10.0)"
      ]
     },
     "metadata": {},
     "output_type": "display_data"
    },
    {
     "data": {
      "application/vnd.jupyter.widget-view+json": {
       "model_id": "0f2a46048a2f48a29ed85aa9f5de778c",
       "version_major": 2,
       "version_minor": 0
      },
      "text/html": [
       "<p>Failed to display Jupyter Widget of type <code>Output</code>.</p>\n",
       "<p>\n",
       "  If you're reading this message in the Jupyter Notebook or JupyterLab Notebook, it may mean\n",
       "  that the widgets JavaScript is still loading. If this message persists, it\n",
       "  likely means that the widgets JavaScript library is either not installed or\n",
       "  not enabled. See the <a href=\"https://ipywidgets.readthedocs.io/en/stable/user_install.html\">Jupyter\n",
       "  Widgets Documentation</a> for setup instructions.\n",
       "</p>\n",
       "<p>\n",
       "  If you're reading this message in another frontend (for example, a static\n",
       "  rendering on GitHub or <a href=\"https://nbviewer.jupyter.org/\">NBViewer</a>),\n",
       "  it may mean that your frontend doesn't currently support widgets.\n",
       "</p>\n"
      ],
      "text/plain": [
       "Output()"
      ]
     },
     "metadata": {},
     "output_type": "display_data"
    },
    {
     "data": {
      "application/vnd.jupyter.widget-view+json": {
       "model_id": "8efff405693f47aca685aa96bb443467",
       "version_major": 2,
       "version_minor": 0
      },
      "text/html": [
       "<p>Failed to display Jupyter Widget of type <code>FloatSlider</code>.</p>\n",
       "<p>\n",
       "  If you're reading this message in the Jupyter Notebook or JupyterLab Notebook, it may mean\n",
       "  that the widgets JavaScript is still loading. If this message persists, it\n",
       "  likely means that the widgets JavaScript library is either not installed or\n",
       "  not enabled. See the <a href=\"https://ipywidgets.readthedocs.io/en/stable/user_install.html\">Jupyter\n",
       "  Widgets Documentation</a> for setup instructions.\n",
       "</p>\n",
       "<p>\n",
       "  If you're reading this message in another frontend (for example, a static\n",
       "  rendering on GitHub or <a href=\"https://nbviewer.jupyter.org/\">NBViewer</a>),\n",
       "  it may mean that your frontend doesn't currently support widgets.\n",
       "</p>\n"
      ],
      "text/plain": [
       "FloatSlider(value=-1.0433149337768555, continuous_update=False, max=10.0, min=-10.0)"
      ]
     },
     "metadata": {},
     "output_type": "display_data"
    },
    {
     "data": {
      "application/vnd.jupyter.widget-view+json": {
       "model_id": "c9e9945311a146b68d3b5ebbe8a2783f",
       "version_major": 2,
       "version_minor": 0
      },
      "text/html": [
       "<p>Failed to display Jupyter Widget of type <code>Output</code>.</p>\n",
       "<p>\n",
       "  If you're reading this message in the Jupyter Notebook or JupyterLab Notebook, it may mean\n",
       "  that the widgets JavaScript is still loading. If this message persists, it\n",
       "  likely means that the widgets JavaScript library is either not installed or\n",
       "  not enabled. See the <a href=\"https://ipywidgets.readthedocs.io/en/stable/user_install.html\">Jupyter\n",
       "  Widgets Documentation</a> for setup instructions.\n",
       "</p>\n",
       "<p>\n",
       "  If you're reading this message in another frontend (for example, a static\n",
       "  rendering on GitHub or <a href=\"https://nbviewer.jupyter.org/\">NBViewer</a>),\n",
       "  it may mean that your frontend doesn't currently support widgets.\n",
       "</p>\n"
      ],
      "text/plain": [
       "Output()"
      ]
     },
     "metadata": {},
     "output_type": "display_data"
    },
    {
     "data": {
      "application/vnd.jupyter.widget-view+json": {
       "model_id": "4a538e936d9e4c739481d99d90ac6c37",
       "version_major": 2,
       "version_minor": 0
      },
      "text/html": [
       "<p>Failed to display Jupyter Widget of type <code>FloatSlider</code>.</p>\n",
       "<p>\n",
       "  If you're reading this message in the Jupyter Notebook or JupyterLab Notebook, it may mean\n",
       "  that the widgets JavaScript is still loading. If this message persists, it\n",
       "  likely means that the widgets JavaScript library is either not installed or\n",
       "  not enabled. See the <a href=\"https://ipywidgets.readthedocs.io/en/stable/user_install.html\">Jupyter\n",
       "  Widgets Documentation</a> for setup instructions.\n",
       "</p>\n",
       "<p>\n",
       "  If you're reading this message in another frontend (for example, a static\n",
       "  rendering on GitHub or <a href=\"https://nbviewer.jupyter.org/\">NBViewer</a>),\n",
       "  it may mean that your frontend doesn't currently support widgets.\n",
       "</p>\n"
      ],
      "text/plain": [
       "FloatSlider(value=0.6915717124938965, continuous_update=False, max=10.0, min=-10.0)"
      ]
     },
     "metadata": {},
     "output_type": "display_data"
    },
    {
     "data": {
      "application/vnd.jupyter.widget-view+json": {
       "model_id": "cc22ecf73c4940de88a6b70a349e9f73",
       "version_major": 2,
       "version_minor": 0
      },
      "text/html": [
       "<p>Failed to display Jupyter Widget of type <code>Output</code>.</p>\n",
       "<p>\n",
       "  If you're reading this message in the Jupyter Notebook or JupyterLab Notebook, it may mean\n",
       "  that the widgets JavaScript is still loading. If this message persists, it\n",
       "  likely means that the widgets JavaScript library is either not installed or\n",
       "  not enabled. See the <a href=\"https://ipywidgets.readthedocs.io/en/stable/user_install.html\">Jupyter\n",
       "  Widgets Documentation</a> for setup instructions.\n",
       "</p>\n",
       "<p>\n",
       "  If you're reading this message in another frontend (for example, a static\n",
       "  rendering on GitHub or <a href=\"https://nbviewer.jupyter.org/\">NBViewer</a>),\n",
       "  it may mean that your frontend doesn't currently support widgets.\n",
       "</p>\n"
      ],
      "text/plain": [
       "Output()"
      ]
     },
     "metadata": {},
     "output_type": "display_data"
    }
   ],
   "source": [
    "# test generator\n",
    "ideas = np.random.randn(5).astype(np.float32)\n",
    "for i, x in enumerate(ideas):\n",
    "    slider(x, ideas, i, G)"
   ]
  },
  {
   "cell_type": "code",
   "execution_count": null,
   "metadata": {},
   "outputs": [],
   "source": []
  },
  {
   "cell_type": "code",
   "execution_count": null,
   "metadata": {},
   "outputs": [],
   "source": []
  }
 ],
 "metadata": {
  "kernelspec": {
   "display_name": "Python 3",
   "language": "python",
   "name": "python3"
  },
  "language_info": {
   "codemirror_mode": {
    "name": "ipython",
    "version": 3
   },
   "file_extension": ".py",
   "mimetype": "text/x-python",
   "name": "python",
   "nbconvert_exporter": "python",
   "pygments_lexer": "ipython3",
   "version": "3.6.4"
  },
  "widgets": {
   "application/vnd.jupyter.widget-state+json": {
    "state": {
     "08b8c4877b3b4e2790ecd140b29bae25": {
      "model_module": "@jupyter-widgets/controls",
      "model_module_version": "1.1.0",
      "model_name": "SliderStyleModel",
      "state": {
       "_model_module_version": "1.1.0",
       "_view_module_version": "1.0.0",
       "description_width": ""
      }
     },
     "0d05d4bb4c074b47a639a6888ff32b1e": {
      "model_module": "@jupyter-widgets/controls",
      "model_module_version": "1.1.0",
      "model_name": "FloatSliderModel",
      "state": {
       "_model_module_version": "1.1.0",
       "_view_module_version": "1.1.0",
       "continuous_update": false,
       "layout": "IPY_MODEL_e7c3be35ec39466e9d882b4c8741cd9c",
       "max": 10,
       "min": -10,
       "step": 0.1,
       "style": "IPY_MODEL_f78f8115245447af8e4b27def9e9a36b",
       "value": -1.2
      }
     },
     "0f2a46048a2f48a29ed85aa9f5de778c": {
      "model_module": "@jupyter-widgets/output",
      "model_module_version": "1.0.0",
      "model_name": "OutputModel",
      "state": {
       "layout": "IPY_MODEL_3c30dd3a4bc14b02b4bb7846813dea36",
       "outputs": [
        {
         "data": {
          "image/png": "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\n",
          "text/plain": "<matplotlib.figure.Figure at 0x11fc2b668>"
         },
         "metadata": {},
         "output_type": "display_data"
        }
       ]
      }
     },
     "241fbaa340c94902a37be1e721537e3b": {
      "model_module": "@jupyter-widgets/controls",
      "model_module_version": "1.1.0",
      "model_name": "FloatSliderModel",
      "state": {
       "_model_module_version": "1.1.0",
       "_view_module_version": "1.1.0",
       "continuous_update": false,
       "layout": "IPY_MODEL_98356977141549c1888f2405adacd4bd",
       "max": 10,
       "min": -10,
       "step": 0.1,
       "style": "IPY_MODEL_852019c4e3644b098b7ac2f445b45598",
       "value": 0.4
      }
     },
     "2a21da5c29294b48a1109300d5ec6d40": {
      "model_module": "@jupyter-widgets/base",
      "model_module_version": "1.0.0",
      "model_name": "LayoutModel",
      "state": {
       "_model_module_version": "1.0.0",
       "_view_module_version": "1.0.0"
      }
     },
     "3a5d2542e82a46d990c523449e3ac49f": {
      "model_module": "@jupyter-widgets/base",
      "model_module_version": "1.0.0",
      "model_name": "LayoutModel",
      "state": {
       "_model_module_version": "1.0.0",
       "_view_module_version": "1.0.0"
      }
     },
     "3c30dd3a4bc14b02b4bb7846813dea36": {
      "model_module": "@jupyter-widgets/base",
      "model_module_version": "1.0.0",
      "model_name": "LayoutModel",
      "state": {
       "_model_module_version": "1.0.0",
       "_view_module_version": "1.0.0"
      }
     },
     "43e85443a291479ab8dee4800cc629f0": {
      "model_module": "@jupyter-widgets/base",
      "model_module_version": "1.0.0",
      "model_name": "LayoutModel",
      "state": {
       "_model_module_version": "1.0.0",
       "_view_module_version": "1.0.0"
      }
     },
     "4a538e936d9e4c739481d99d90ac6c37": {
      "model_module": "@jupyter-widgets/controls",
      "model_module_version": "1.1.0",
      "model_name": "FloatSliderModel",
      "state": {
       "_model_module_version": "1.1.0",
       "_view_module_version": "1.1.0",
       "continuous_update": false,
       "layout": "IPY_MODEL_3a5d2542e82a46d990c523449e3ac49f",
       "max": 10,
       "min": -10,
       "step": 0.1,
       "style": "IPY_MODEL_08b8c4877b3b4e2790ecd140b29bae25",
       "value": 10
      }
     },
     "5d9aa15927e142a397ccd2e231baa0c2": {
      "model_module": "@jupyter-widgets/controls",
      "model_module_version": "1.1.0",
      "model_name": "FloatSliderModel",
      "state": {
       "_model_module_version": "1.1.0",
       "_view_module_version": "1.1.0",
       "continuous_update": false,
       "layout": "IPY_MODEL_8defedd5539b412eb559e2493b926762",
       "max": 10,
       "min": -10,
       "step": 0.1,
       "style": "IPY_MODEL_a668848518bb4a2bbebde2ed71b2d82b",
       "value": -1.3
      }
     },
     "852019c4e3644b098b7ac2f445b45598": {
      "model_module": "@jupyter-widgets/controls",
      "model_module_version": "1.1.0",
      "model_name": "SliderStyleModel",
      "state": {
       "_model_module_version": "1.1.0",
       "_view_module_version": "1.0.0",
       "description_width": ""
      }
     },
     "8769c2d077684bb3b1c2baa98f7c749c": {
      "model_module": "@jupyter-widgets/controls",
      "model_module_version": "1.1.0",
      "model_name": "SliderStyleModel",
      "state": {
       "_model_module_version": "1.1.0",
       "_view_module_version": "1.0.0",
       "description_width": ""
      }
     },
     "89f2b2d8744c407aaad4225dfdce733a": {
      "model_module": "@jupyter-widgets/base",
      "model_module_version": "1.0.0",
      "model_name": "LayoutModel",
      "state": {
       "_model_module_version": "1.0.0",
       "_view_module_version": "1.0.0"
      }
     },
     "8defedd5539b412eb559e2493b926762": {
      "model_module": "@jupyter-widgets/base",
      "model_module_version": "1.0.0",
      "model_name": "LayoutModel",
      "state": {
       "_model_module_version": "1.0.0",
       "_view_module_version": "1.0.0"
      }
     },
     "8efff405693f47aca685aa96bb443467": {
      "model_module": "@jupyter-widgets/controls",
      "model_module_version": "1.1.0",
      "model_name": "FloatSliderModel",
      "state": {
       "_model_module_version": "1.1.0",
       "_view_module_version": "1.1.0",
       "continuous_update": false,
       "layout": "IPY_MODEL_a5aabfa8ae4d4f5283569d621fc5c852",
       "max": 10,
       "min": -10,
       "step": 0.1,
       "style": "IPY_MODEL_8769c2d077684bb3b1c2baa98f7c749c",
       "value": 0.8
      }
     },
     "98356977141549c1888f2405adacd4bd": {
      "model_module": "@jupyter-widgets/base",
      "model_module_version": "1.0.0",
      "model_name": "LayoutModel",
      "state": {
       "_model_module_version": "1.0.0",
       "_view_module_version": "1.0.0"
      }
     },
     "984733bcea5443f9b939ca49e219d2fd": {
      "model_module": "@jupyter-widgets/output",
      "model_module_version": "1.0.0",
      "model_name": "OutputModel",
      "state": {
       "layout": "IPY_MODEL_2a21da5c29294b48a1109300d5ec6d40",
       "outputs": [
        {
         "data": {
          "image/png": "iVBORw0KGgoAAAANSUhEUgAAAX8AAAD8CAYAAACfF6SlAAAABHNCSVQICAgIfAhkiAAAAAlwSFlzAAALEgAACxIB0t1+/AAAADl0RVh0U29mdHdhcmUAbWF0cGxvdGxpYiB2ZXJzaW9uIDIuMS4yLCBodHRwOi8vbWF0cGxvdGxpYi5vcmcvNQv5yAAAIABJREFUeJzt3Xd8VGW+x/HPkw5pEJJASCEhCUiHEGqoiooNEBUFC4KIBV3ddYv3rtftd9e1oK7uKgqCim2xsSqidKQn9JZCEtKAFEhCSEh97h8Z9mZjAoHMzJmZ83u/XnllMnMy58th5jtPzpx5jtJaI4QQwlzcjA4ghBDC/qT8hRDChKT8hRDChKT8hRDChKT8hRDChKT8hRDChKT8hRDChKT8hRDChKT8hRDChDyMDtCa4OBgHR0dbXQMIYRwKikpKcVa65BLLeew5R8dHU1ycrLRMYQQwqkopY63ZTnZ7SOEECYk5S+EECYk5S+EECYk5S+EECYk5S+EECYk5S+EECYk5S+EECZklfJXSi1RShUqpQ62crtSSr2qlMpQSu1XSiVYY71CCNdS36D5an8Bu3POGB3F5VnrQ15LgdeAd1u5/QYg3vI1AviH5bsQQtDQoPn20Ele+j6NjMIKgny9WPfUeDp19DI6msuyyshfa70JOH2RRaYC7+pG24FOSqkwa6xbCOG8tNasP1rILa/9wKPLdwPwzE19KKuq5a+rUw1O59rsNb1DOJDb5Oc8y3Un7LR+IYSD2Z5ZwgurU0k+fobIoA68eMcgpg0Jx91NkV9axdKt2dyZGMmgyE5GR3VJ9ip/1cJ1+kcLKTUfmA8QFRVl60xCCAPsyy3lhe9S2ZxeTNcAb/44rT8zEiPx8vj/HRE/vbYXX+0/wTNfHOSLBUm4u7VUIaI97HW0Tx4Q2eTnCKCg+UJa60Va60StdWJIyCUnpRNCOJGjJ8t58N1kpr6+hUMF5TxzUx82/mIi94zs8R/FDxDg48kzN/XhQH4ZH+zMMSixa7PXyH8l8JhS6iMa3+gt01rLLh8hTCC7+BwL16Sxcl8Bft4ePHVtL+aMicHP++L1M2VQdz7amcvz3x7lhv7dCPbztlNic7BK+SulPgQmAMFKqTzgN4AngNb6DeAb4EYgA6gE5lhjvUIIx1VQWsWra9P5Z0oeXu5uPDw+lofG9WzzETxKKX4/tR83vLKZ51Yd5fk7Btk4sblYpfy11jMvcbsGFlhjXUIIx6W1Ju9MFUu2ZLF8e+PumntH9uDRibGE+vtc9v3Fd/XngbExvLkxkzuHRZIYHWTtyKblsCdzEUI4Lq01J8vPk3aqgvRTZ0k/VUFa4VkyTlVwtroOdzfFHUMjePyaeMI7dWjXun5ydTwr9xbwzBcH+erxMXi4y8QE1iDlL4RoldaaU+XVpJ06S1oLJX9BsJ8X8aH+3JoQTnxXf8bGBRMd7GuVDL7eHjx7c18eWb6bd7cdZ+6YGKvcr9lJ+Qsh/sPaI6f4/vCpxrIvrODs+f8v+SBfL+JD/Zg2JJxeXf2I7+pPr67+BPna9pO4k/t3Y1yvEF76Po2bB4YRGnD5u5DEf5LyF0L826cpeTz1z3106uhJr67+TB3cnV5d/YkP9adXVz+6GHTEjVKK303px/ULN/Gnb47wyl1DDMnhSqT8hRAAfL3/BL9YsY8xccG8PTsRH093oyP9h5hgXx4e35NX12Vw57BIRscGGx3Jqck7J0II1hw+xRMf7WFoj84sum+owxX/BY9OjCOicwee/fIQNXUNRsdxalL+Qpjc5vQiHl2+m37dA1hy/zA6ejnuDgEfT3d+e0s/MgorWLIly+g4Tk3KXwgT25l1mgffTaZniC/L5g7H38fT6EiXNKlvVyb1CeWVNekUlFYZHcdpSfkLYVJ7c0uZu3QX4Z068P68EU41d/5vbulHg9b84avDRkdxWlL+QpjQ4YJy7lu8gyBfL5bPG+l08+ZEBnXksYlxrDp4ko1pRUbHcUpS/kKYTEbhWe5dvANfbw+WzxtBt0DnPGZ+/viexAT78psvD3K+tt7oOE5Hyl8IEzleco5Zb+1AKcXyeSOIDOpodKQr5u3hzu+m9CO7pJJFmzKNjuN0pPyFMIn80ipmvbWD2voGls8bQc8QP6Mjtdu4XiHcOKAbr6/PIPd0pdFxnIqUvxAmUFh+nrvf2k75+Vree2AEvbv5Gx3Jav7n5r64uyl+u/KQ0VGcipS/EC6upKKau9/eQeHZapbOGU7/8ECjI1lVWGAHnrgmnrVHC/n+8Cmj4zgNKX8hXFhZZS33Lt5JzulKFs8extAenY2OZBNzx8QQH+rHb1ceoqpG3vxtCyl/IVxURXUds9/ZSXrhWd68dyijYrsYHclmPN3d+P3U/uSXVvH3DRlGx3EKUv5CuKCqmnoeWLqLA/llvDYrgQm9Q42OZHOjYrswbXB33tyYSVbxOaPjODwpfyFcTHVdPfPfS2Zn9mlemjGI6/t1MzqS3fz3TX3w9nDjyY/3UtHkZDPix6T8hXAxv1yxn83pxTw3fSBTB4cbHceuQv19eP6OQRzML2P2kp3yAnARUv5CuJBDBWV8ubeAx6+OY8awSKPjGGJy/278beYQ9uaWcr+8ALRKyl8IF/Lmxkz8vD2YN7an0VEMdeOAMF69awh7ckuZ+84uzskLwI9I+QvhInJPV/LV/gJmjYgisIPjT81sazcNDOPlOweTknOGOUvlBaA5KX8hXMRbmzNxd1PMTYoxOorDuGVQdxbeOZjk7NPMXbqLyhp5AbhAyl8IF1BSUc0nybncOiTcaWfptJUplheAXfIC8B+k/IVwAcu2ZlNd18D8cbFGR3FIUweHs/DOwezMOs0DS5PlU8BI+Qvh9M5V17Fs23Gu69uVuFDnn6nTVqYODufFGYPYnlXCA8t2mf4FQMpfCCf30a5cyqpqeXi8jPov5dYhEbx4xyC2ZZbw4LvJpj4JjJS/EE6spq6BxZszGRETxJAo15y0zdqmJ0Tw/O2D2HKs2NQvAFL+QjixlfsKKCg7z8MTZNR/OW4fGsFfbxvIDxnmfQGQ8hfCSTU0aN7ceIyruvkzoVeI0XGczh2JkTxneQGY/16K6V4ApPyFcFLrjhaSXljBw+NjUUoZHccpzUiM5LnpA9mUVsRDJnsBkPIXwkm9sfEY4Z06cPPAMKOjOLUZwyL5y/QBbEwr4pH3U6iuM8cLgJS/EE4oOfs0ycfP8ODYGDzc5WncXncNj+LP0wewPrWIR97fbYoXAHnUCOGE3th4jM4dPU07c6ctzBwexf/eOoB1Rwu5d/FOMosqjI5kU1L+QjiZtFNnWXOkkNmjo+no5WF0HJcya0QUL80YxJET5Ux+ZTOvrEl32b8CpPyFcDJvbsykg6c7s0dFGx3FJU1PiGDtU+O5vl83Fq5J44ZXNrPtWInRsaxOyl8IJ1JQWsWXe/O5c1gknX29jI7jskL9ffjbzCEsmzuc2voGZr61nZ99speSimqjo1mNVcpfKTVZKZWqlMpQSj3dwu33K6WKlFJ7LV/zrLFeIcxm8Q9ZaGDeWJm22R7G9wrhuyfH8+iEWFbuLeCalzbyya5ctNZGR2u3dpe/UsodeB24AegLzFRK9W1h0Y+11oMtX2+3d71CmE1pZQ0f7sxhyqDuRHTuaHQc0+jg5c4vJ1/FN0+MJT7Uj19+up87F20no/Cs0dHaxRoj/+FAhtY6U2tdA3wETLXC/Qohmnhv23Eqa+p5aLy5T9FolF5d/fl4/iieu20AqSfPcsMrm3lhdarTfjDMGuUfDuQ2+TnPcl1ztyml9iulViil5Pg0IS5DVU0972zN5uqrQrmqW4DRcUzLzU1x57Ao1j41nlsGdue19Rlc//ImNqUVGR3tslmj/Fv6XHnzHWL/AqK11gOBNcCyFu9IqflKqWSlVHJRkfNtTCFs5Z8puZw+VyPTNjuIYD9vXrpzMMvnjcBNKe5bspOffLiHwrPnjY7WZtYo/zyg6Ug+AihouoDWukRrfeFt8reAoS3dkdZ6kdY6UWudGBIiE1UJAVBX38CiTZkkRHViWLRM2+xIkuKCWfXEWJ64Jp5vD57kmhc38v724zQ0OP4bwtYo/11AvFIqRinlBdwFrGy6gFKq6eQjU4AjVlivEKbw9YET5J2pkgncHJSPpzs/vbYXq54cS7/uATzzxUF+sWK/0bEuqd3lr7WuAx4DVtNY6p9orQ8ppX6vlJpiWewnSqlDSql9wE+A+9u7XiHMQGvNGxsziQv1Y1KfrkbHERcRG+LHhw+O5J6RUXyxN5+is479mQCrHOevtf5Ga91Lax2rtf6T5bpntdYrLZf/S2vdT2s9SGs9UWt91BrrFcLVbUov5siJcuaP64mbm4z6HZ1SivtHR1PfoPlyb77RcS5KPuErhAN7Y8MxugX4MG1wSwfQCUcUF+rPoIhAVqTkGR3loqT8hXBQ+3JL2ZZZwgNjYvDykKeqM7ltaARHT57lUEGZ0VFaJY8oIRzUGxuPEeDjwcwRUUZHEZfploHd8XJ349MUx931I+UvhAPKLKrg20MnuXdUD/y8ZdpmZ9PZ14tr+oTy5d58ausbjI7TIil/IRzQW5sz8XR34/7RMoGbs7otIYKSczVsSHXMD6xK+QvhYArLz/NpSj53DI0gxN/b6DjiCo3vHUIXXy8+ddA3fqX8hXAwi7dkUdfQwPxxMoGbM/N0d2PakHDWHj3FmXM1Rsf5ESl/IRzI6XM1LN+ew40DwujRxdfoOKKdbkuIoLZe86/9BZde2M6k/IVwIP/YkEFlTR1PToo3Ooqwgr7dA+gTFuCQx/xL+QvhIE6UVbFs23GmJ0QQF+pvdBxhJbclhLM/r4z0U4518hcpfyEcxKtrM9Ba88Q1Mup3JVMHh+Puplix27FG/1L+QjiA7OJzfJKcy6zhUUQGySkaXUmIvzcTe4fwxZ586h1oqmcpfyEcwMI1aXi5u7Hg6jijowgbuC0hglPl1WxOd5xj/qX8hTDYkRPlrNxXwJykaEL9fYyOI2zg6j6hBHbw5NPdjjPdg5S/EAZ78btU/Lw9eGicnKLRVXl7uDNlUHe+O3SS8vO1RscBpPyFMFTK8TOsOVLIw+NjCezoaXQcYUO3D42guq6Br/efMDoKIOUvhGG01jy/+ijBfl7MSYo2Oo6wsYERgcSF+jnMdA9S/kIY5IeMYrZnnuaxiXF09JKZO12dUorbEiJIPn6GrOJzRseR8hfCCI2j/lTCO3WQ+fpN5NYh4bgp+MwBjvmX8hfCAKsPnWJ/XhlPTIrH28Pd6DjCTroF+pAUF8xnu/NpMPiYfyl/IeysvkHz4nepxIb4Mn2InJvXbG4fGkF+aRXbs0oMzSHlL4SdfbEnn/TCCp66rjce7vIUNJvr+3XD39vD8Mne5JEnhB3V1DWwcE0a/cMDmNyvm9FxhAF8PN25aWAY3x48ybnqOsNySPkLYUcf78oh70wVP7+uN25uyug4wiC3DY2gsqaeVQdPGpZByl8IO6msqePVdRkMjwlifK8Qo+MIAyX26EyPLh0NPeZfyl8IO1m29ThFZ6v5xfW9UUpG/WZ24Zj/bZkl5J2pNCSDlL8QdlBWVcsbG48xsXcIw6KDjI4jHMCtliO9PjNosjcpfyHs4K1NmZRV1fLUdb2NjiIcRGRQR0b2DOKz3Xlobf9j/qX8hbCxorPVLNmSxc0Dw+gfHmh0HOFAbh8aSXZJJSnHz9h93VL+QtjY3zdkUF3XwM+u7WV0FOFgbujfjY5e7nxqwHQPUv5C2FB+aRXLt+dwe0IEPUP8jI4jHIyvtweT+3fjq30nOF9bb9d1S/kLYUOvrEkD4CeT5KTsomW3J0RwtrqO1Yfse8y/lL8QNnKsqIIVKXncM7IH4Z06GB1HOKiRPbsQ3qmD3U/xKOUvhI289H0aPp7uPDpRTs8oWufmppieEM4P6UWcLDtvv/XabU1CmMjB/DK+3n+CB8bEEOznbXQc4eCmJ0TQoOHzPfYb/Uv5C2EDL3yXSmAHT+aN7Wl0FOEEYoJ9GdqjM5/a8Zh/KX8hrGxn1mk2pBbxyIRYAjvISdlF29yWEEFGYQX788rssj4pfyGsqLa+gT+vOkKIvzezR0UbHUc4kZsGhuHt4Wa3Y/6tUv5KqclKqVSlVIZS6ukWbvdWSn1suX2HUiraGusVwtH87l+H2JNTyjM39aGDl5yeUbRdYAdPruvXjZX7Cqius/0x/+0uf6WUO/A6cAPQF5iplOrbbLEHgDNa6zhgIfBce9fbmuKKap754gAH8+3zp5MQF7y7LZv3t+fw0LieTB0sp2cUl++2hHBKK2tZd6TQ5uuyxsh/OJChtc7UWtcAHwFTmy0zFVhmubwCuEbZaE5bLw83Pt+dz+Ifsmxx90K0aHN6Eb/712GuuSqUX06+yug4wkmNjQ8h1N/bLrt+rFH+4UBuk5/zLNe1uIzWug4oA7pYYd0/EuDjyR2JkXy1v4BT5fY7ZlaYV2ZRBQuW7yYuxI9XZg7BXc7QJa6Qu5ti/rieDInqbPN1WaP8W3qkNz9WqS3LoJSar5RKVkolFxUVXXGgOUnR1DVo3tt2/IrvQ4i2KKusZd6yZDzc3Xh7diJ+3h5GRxJObt7YniyYGGfz9Vij/POAyCY/RwAFrS2jlPIAAoHTze9Ia71Ia52otU4MCbny09z16OLLpD5dWb7juN0nSxLmUVffwIIPdpN7ppI37hlKZFBHoyMJ0WbWKP9dQLxSKkYp5QXcBaxstsxKYLbl8u3AOm3jTzLMTYrhTGUtX9jxE3PCXP7w1WF+yCjmT9MGMDxGzs4lnEu7y9+yD/8xYDVwBPhEa31IKfV7pdQUy2KLgS5KqQzgZ8CPDge1tpE9g+gbFsCSLVmGnCVHuLb3tx9n2bbjzBsTw4xhkZf+BSEcjFV2UGqtvwG+aXbds00unwfusMa62kopxdwxMfz8n/v4IaOYsfFXvhtJiKa2ZhTzm5WHmNg7hP+6sY/RcYS4Ii79Cd9bBoUR7Octh30Kq8kqPscjy3fTM9iXV+XIHuHEXLr8vT3cuXdkDzakFpFRWGF0HOHkyqpqeWDZLtwULJ49DH8fmbdHOC+XLn+Au0dG4eXhxtKtMvoXV66uvoHHPthNTkkl/7hnKFFd5Mge4dxcvvyD/byZNrg7n6bkU1pZY3Qc4aT++PURNqcX88dp/RnZ0yafTxTCrly+/AHmJMVQVVvPhztzL72wEM18sCOHpVuzmZsUw13Do4yOI4RVmKL8+4QFMDq2C+9uy6a2vsHoOMKJbD1WzLNfHmR8rxD++0aZs0e4DlOUP8ADY2I4UXaeVQdPGh1FOIns4nM8unw30cG+/G3WEDzcTfN0ESZgmkfzxN6hRHfpyBI57FO0Qfn5Wua9mwzA4tmJBMiRPcLFmKb83dwUc5Ji2Jtbyu6cM0bHEQ6svkHz+Ad7yC4+xz/uHkqPLr5GRxLC6kxT/gC3D43A38dDPvQlLuovq46wMa2I30/tz6hYObJHuCZTlb+vtwczh0fx7cGT5JdWGR1HOKCMwgre/iGLWSOimDVCjuwRrstU5Q9w36geaK15d2u20VGEA/r7hgy8Pdz42bW9jI4ihE2ZrvwjOnfkhv5hfLgzh3PVdUbHEQ4kp6SSL/cWcPeIHgT7eRsdRwibMl35A8wdE035+To+s8N5MoXz+MfGDNxV42n0hHB1piz/hKjODIrsxJIt2TQ0yFz/AvJLq1iRkseMYRF0DfAxOo4QNmfK8ldKMTcpmqzic2xIKzQ6jnAAizYeQ2t4eHys0VGEsAtTlj/AjQPC6Bbgw5Ifso2OIgxWePY8H+7KZXpCOBGdZbZOYQ6mLX9PdzfuG92DHzKKOXqy3Og4wkBvbcqkrr6BRyfEGR1FCLsxbfkDzBwWhY+nG+/I6N+0Tp+r4f3tOUwZ1J3oYPkkrzAPU5d/Z18vpidE8PnefIorqo2OIwyw+IdMztfVs2CijPqFuZi6/AHmJkVTU9fABztyjI4i7KysspZlW49zQ/9uxHf1NzqOEHZl+vKPC/VnfK8Q3tt+nOq6eqPjCDtaujWbiuo6HpsYb3QUIezO9OUPMHdMDEVnq/lq3wmjowg7qaiuY8mWLCb1CaVv9wCj4whhd1L+wLj4YOJC/ViyJQut5UNfZvD+9uOUVdXy2NUy6hfmJOXPhQ99xXCooJydWaeNjiNsrKqmnrc3ZzI2PpjBkZ2MjiOEIaT8LaYnhNO5o6fM9W8CH+7Mobiihsdl1C9MTMrfwsfTnVkjovj+yClySiqNjiNs5HxtPW9uOsaImCCGxwQZHUcIw0j5N3HvyGjclWKpzPXvslak5HGqvFpG/cL0pPyb6Bbow80Dw/gkOZez52uNjiOsrLa+gX9sOMaQqE4kxcnpGYW5Sfk3M3dMDBXVdbz4XZrRUYSVfb4nn/zSKh6/Og6llNFxhDCUlH8zAyM6MScpmqVbs3l7c6bRcYSV1Ddo/r4+g37dA5jYO9ToOEIYzsPoAI7of27qS2F5NX/8+gihAT5MGdTd6Eiinb7aX0B2SSVv3JMgo34hkPJvkZub4sUZgyiuqOapT/YS7OvF6Lhgo2OJK9TQoHltXQa9uvpxXd9uRscRwiHIbp9W+Hi6s+i+RGKCfXnovRQOF8ic/85q9aGTpBdWsGBiHG5uMuoXAqT8LyqwgyfL5g7Hz8eD+9/ZSd4ZOf7f2Wit+du6DGKCfbl5oOy+E+ICKf9LCAvswNI5wzlfW8/97+yitLLG6EjiMqxPLeTwiXIenRCLu4z6hfg3Kf826N3Nn7fuSySnpJJ5y5I5XytTPzsDrTWvrs0gonMHpg0JNzqOEA5Fyr+NRvTswsI7B5OSc4YnPtpDfYPM/unotmSUsDe3lEcmxOLpLg91IZpq1zNCKRWklPpeKZVu+d65leXqlVJ7LV8r27NOI900MIxnb+7L6kOn+O3KQzL9s4N7dV06XQO8uX1ohNFRhHA47R0OPQ2s1VrHA2stP7ekSms92PI1pZ3rNNScpBgeGteT97Yf5+8bjhkdR7RiR2YJO7NO89C4WLw93I2OI4TDaW/5TwWWWS4vA6a18/6cwq8mX8W0wd15fnUqK1LyjI4jWvDa+gyC/byYOTzK6ChCOKT2ln9XrfUJAMv31j4376OUSlZKbVdKOf0LhJub4q+3DyIprgu/+nQ/G1ILjY4kmtiTc4bN6cXMG9uTDl4y6heiJZcsf6XUGqXUwRa+pl7GeqK01onALOBlpVRsK+uab3mRSC4qKrqMu7c/Lw833rhnKL27+vPo8t0cyCszOpKweH19Bp06enLPyB5GRxHCYV2y/LXWk7TW/Vv4+hI4pZQKA7B8b3EIrLUusHzPBDYAQ1pZbpHWOlFrnRgSEnKF/yT78ffxZOmcYXTu6MWcpTs5XnLO6EimdyCvjDVHCpmbFIOft8xeIkRr2rvbZyUw23J5NvBl8wWUUp2VUt6Wy8FAEnC4net1GKEBPiybO5y6Bs3sJTspqag2OpKpvbwmjcAOnsxJijY6ihAOrb3l/xfgWqVUOnCt5WeUUolKqbcty/QBkpVS+4D1wF+01i5T/gBxoX4snp3IibLzzF2WTGVNndGRTGlfbilrjxby4NgY/H08jY4jhENTjnqsemJiok5OTjY6xmX57tBJHn4/hQm9Q1l071A85INFdjXnnZ3syS1l8y8nSvkL01JKpVjeY70oaScruq5fN/4wrT/rjhby1uYso+OYyp6cM6xPLeLBsT2l+IVoAyl/K7t7RA/GxgezdGsWtfUNRscxjVfWptO5oyezR0cbHUUIpyDlbwNzkqI5VV7NNwdOGB3FFHbnnGFDahEPjuspR/gI0UZS/jYwoVcoMcG+LNmSbXQUU3h5TTpBvl7MHhVtdBQhnIaUvw24uSnmJEWzL7eU3TlnjI7j0lKOn2FTWhHzx/XEV0b9QrSZlL+N3JYQgb+PB0t+kDd+benlNWl08fXivlHyaV4hLoeUv434entw17BIVh08SUFpldFxXFJy9mk2pxfz0PiedPSSUb8Ql0PK34buGxWN1pr3th83OopLWrgmjWA/L5nDR4grIOVvQ5FBHbmubzc+2JFDVY2c+tGadmadZktGCQ+Pj5VRvxBXQMrfxuaOiaGsqpbP9+QbHcWlLPw+jWA/b+4eIaN+Ia6ElL+NDYvuTP/wAJZsyZLTPlrJ9swStmWW8PB4ma9fiCsl5W9jSinmjI4ho7CCzenFRsdxCS+vSSPE31v29QvRDlL+dnDzoDCC/bx5Z4sc9tle246VsD3zNI+Mj8XHU0b9QlwpKX878PZw596RPVifWsSxogqj4zgtrTUL16QR6u/NrBFybl4h2kPK305mjYjCy92NpTLlwxXbdqyEnVmneXSCjPqFaC8pfzsJ8fdmyuDurEjJo6yy1ug4TufCqL9bgA93DZdRvxDtJeVvR3OSoqmqrefj5ByjozidLRkl7Mo+w6MTZdQvhDVI+dtRv+6BjIgJYtnW49TJXP9t1nTUf+ewSKPjCOESpPztbO6YGPJLq/j+8CmjoziNzenFpBw/w4KJsXh7yKhfCGuQ8rezSX26EhnUgSVy2GebaK15eU0a3QN9mCGjfiGsRsrfztzdFLNHRbMr+wwH8sqMjuPwNqUXszunlEcnxsmoXwgrkvI3wIxhkfh6ucuHvi5Ba83C79MI79SBGYky6hfCmqT8DRDg48kdiZH8a38BheXnjY7jsDakFbE3t5QFE+Pw8pCHqhDWJM8og9w/Opq6Bs37Mtd/i7TWvGwZ9d8+NMLoOEK4HCl/g0QH+3LNVaEs35HD+VqZ67+59amF7Msr4/GrZdQvhC3Is8pAc5NiKDlXw8p9BUZHcSiNR/ikE9G5A7fJqF8Im5DyN9Co2C707urPkh9krv+m1h4pZL9l1O/pLg9RIWxBnlkGUkoxd0w0R0+eZXvmaaPjOITUk2f586ojRAV1ZHqCjPqFsBUpf4NNHRxOkK+X6T/0VVxRza8/P8ANr2yi6Gw1v5vaT0b9QtiQnPnaYD6e7swaHsXrGzI4XnKOHl18jY5kV9V19byzJZvX12VQWVvPvSN78OSkXnT29TI6mhAuTYZWDuDeUT1wV4plW81z2KcsprSPAAAKt0lEQVTWmm8OnGDSSxv5y6qjDIsJYvWT4/jd1P5S/ELYgYz8HUDXAB9uHhjGJ8m5/PTaePx9PI2OZFP780r5w1eH2ZV9ht5d/XnvgeGMjQ8xOpYQpiLl7yDmJMXwxd4CVqTkMScpxug4NnGirIrnv03lsz35BPt58b+3DmBGYgQesm9fCLuT8ncQgyI7MbRHZ5Zuzea+UdG4uymjI1lNZU0db27M5M1Nx2hogIfHx7JgYqzL/4UjhCOT8ncgc5NiWPDBbtYdLeTavl2NjtNuDQ2az/bk8/zqo5wqr+amgWE8PfkqIoM6Gh1NCNOT8ncg1/frSvdAH97ZkuX05b8js4Q/fn2EA/llDIoI5PVZCSRGBxkdSwhhIeXvQDzc3bhvdDR/WXWUvbmlDI7sZHSky1ZaWcOvvzjI1/tPEBbow8t3DmbKoO64udBuLCFcgbzT5mDuGhZJp46e3PHGVp798iCFZ51nyufk7NPc+Mpmvjt0kp9O6sW6pyYwbUi4FL8QDqhd5a+UukMpdUgp1aCUSrzIcpOVUqlKqQyl1NPtWaer69TRi1VPjOWOxEiW78hh3F/X89y3RymrrDU6WqsaGjR/35DBnYu24+HuxqePjOaJSfF08JIzbwnhqFR7JhRTSvUBGoA3gZ9rrZNbWMYdSAOuBfKAXcBMrfXhi913YmKiTk7+0d2ZSnbxORauSWPlvgL8vD14eHws94+OxtfbcfbWFZ2t5mef7GVzejE3DQzjz9MHECBH8QhhGKVUita61cH4Be0a+Wutj2itUy+x2HAgQ2udqbWuAT4CprZnvWYRHezLK3cN4ZufjGVETBeeX53K+OfX886WLKrrjD8HwNaMYm58dTM7s07zv7cO4LWZQ6T4hXAS9tjnHw7kNvk5z3KdaKM+YQG8PTuRTx8ZTVyoH7/712GufmEjnyTnUlffYPc89Q2al75P4+7FOwjw8eCLBUnMGhGFUrJvXwhnccnyV0qtUUodbOGrraP3lhqhxX1NSqn5SqlkpVRyUVFRG+/ePIb26MyHD47k/QdGEOznxS9X7Oe6lzfx9f4TNDTY53wAJ8vOM+ut7by6Np3pQyJY+dgY+oQF2GXdQgjrueTOY631pHauIw+IbPJzBNDiqau01ouARdC4z7+d63VJSinGxAeTFJfEd4dP8cLqVBZ8sJt+3QP4+fW9mdArxGYj8PWphTz1yT6qaup54Y5Bcm5dIZyYPd453AXEK6VigHzgLmCWHdbr0pRSXN+vG5P6dOXLvfksXJPGnHd2MTw6iF9M7s0wK36gqra+gRe+S+XNjZlc1c2f12YlEBfqZ7X7F0LYX3uP9rkV+BsQApQCe7XW1yulugNva61vtCx3I/Ay4A4s0Vr/6VL3LUf7XJ6augY+3pXDq+syKDpbTXinDvQPD2BAeCD9wwMZEB5IFz/vy77fvDOVPP7hHvbklDJrRBTP3twXH085hFMIR9XWo33aVf62JOV/Zapq6vlnSi47s05zML+M7JLKf98WFujz7xeCCy8KIf6tvyCsPnSSX/xzHw0a/jx9ALcM6m6Pf4IQoh2k/AUA5edrOZRfzsH8Mg7kl3GwoIys4nNc+G/vGuD9H38d9A8PpFNHT/78zVGWbs1mQHggr80aYrozjAnhrNpa/o7zaSFhEwE+noyK7cKo2C7/vq6iuo5DlheDQwXlHMgvY+3Rwn+/IHTwdKeqtp65STH86obeeHvIbh4hXI2Uvwn5eXswomcXRvT8/xeEc9V1HDnR+EKQdqqCSX1CuaaPc88sKoRonZS/AMDX24PE6CCZdlkIk5BZPYUQwoSk/IUQwoSk/IUQwoSk/IUQwoSk/IUQwoSk/IUQwoSk/IUQwoSk/IUQwoQcdm4fpVQRcLwddxEMFFspji1IvvaRfO0j+drHkfP10FqHXGohhy3/9lJKJbdlciOjSL72kXztI/nax9HztYXs9hFCCBOS8hdCCBNy5fJfZHSAS5B87SP52kfytY+j57skl93nL4QQonWuPPIXQgjRCqcuf6XUZKVUqlIqQyn1dAu3eyulPrbcvkMpFW3HbJFKqfVKqSNKqUNKqSdaWGaCUqpMKbXX8vWsvfI1yZCtlDpgWf+PzpupGr1q2Yb7lVIJdszWu8m22auUKldKPdlsGbtuQ6XUEqVUoVLqYJPrgpRS3yul0i3fO7fyu7Mty6QrpWbbMd/zSqmjlv+/z5VSnVr53Ys+FmyY77dKqfwm/4c3tvK7F32+2zDfx02yZSul9rbyuzbfflaltXbKL8AdOAb0BLyAfUDfZss8CrxhuXwX8LEd84UBCZbL/kBaC/kmAF8ZvB2zgeCL3H4jsApQwEhgh4H/3ydpPIbZsG0IjAMSgINNrvsr8LTl8tPAcy38XhCQafne2XK5s53yXQd4WC4/11K+tjwWbJjvt8DP2/D/f9Hnu63yNbv9ReBZo7afNb+ceeQ/HMjQWmdqrWuAj4CpzZaZCiyzXF4BXKOUUvYIp7U+obXebbl8FjgChNtj3VY2FXhXN9oOdFJKhRmQ4xrgmNa6PR/8azet9SbgdLOrmz7OlgHTWvjV64HvtdantdZngO+ByfbIp7X+TmtdZ/lxOxBh7fW2VSvbry3a8nxvt4vls3THDOBDa6/XCM5c/uFAbpOf8/hxuf57GcuDvwzogp1ZdjcNAXa0cPMopdQ+pdQqpVQ/uwZrpIHvlFIpSqn5Ldzelu1sD3fR+pPO6G3YVWt9Ahpf9IHQFpZxlO04l8a/5FpyqceCLT1m2S21pJXdZo6w/cYCp7TW6a3cbuT2u2zOXP4tjeCbH7rUlmVsSinlB3wKPKm1Lm92824ad2MMAv4GfGHPbBZJWusE4AZggVJqXLPbHWEbegFTgH+2cLMjbMO2cITt+GugDljeyiKXeizYyj+AWGAwcILGXSvNGb79gJlcfNRv1Pa7Is5c/nlAZJOfI4CC1pZRSnkAgVzZn5xXRCnlSWPxL9daf9b8dq11uda6wnL5G8BTKRVsr3yW9RZYvhcCn9P453VTbdnOtnYDsFtrfar5DY6wDYFTF3aFWb4XtrCModvR8gbzzcDd2rKDurk2PBZsQmt9Smtdr7VuAN5qZb1Gbz8PYDrwcWvLGLX9rpQzl/8uIF4pFWMZGd4FrGy2zErgwlEVtwPrWnvgW5tl/+Bi4IjW+qVWlul24T0IpdRwGv8/SuyRz7JOX6WU/4XLNL4xeLDZYiuB+yxH/YwEyi7s4rCjVkdcRm9Di6aPs9nAly0ssxq4TinV2bJb4zrLdTanlJoM/AqYorWubGWZtjwWbJWv6XtIt7ay3rY8321pEnBUa53X0o1Gbr8rZvQ7zu35ovFIlDQajwL4teW639P4IAfwoXFXQQawE+hpx2xjaPyzdD+w1/J1I/Aw8LBlmceAQzQeubAdGG3n7dfTsu59lhwXtmHTjAp43bKNDwCJds7YkcYyD2xynWHbkMYXoRNALY2j0QdofB9pLZBu+R5kWTYReLvJ7861PBYzgDl2zJdB4/7yC4/DC0fAdQe+udhjwU753rM8tvbTWOhhzfNZfv7R890e+SzXL73wmGuyrN23nzW/5BO+QghhQs6820cIIcQVkvIXQggTkvIXQggTkvIXQggTkvIXQggTkvIXQggTkvIXQggTkvIXQggT+j+npwqpNFzMrwAAAABJRU5ErkJggg==\n",
          "text/plain": "<matplotlib.figure.Figure at 0x110b59e10>"
         },
         "metadata": {},
         "output_type": "display_data"
        }
       ]
      }
     },
     "a5aabfa8ae4d4f5283569d621fc5c852": {
      "model_module": "@jupyter-widgets/base",
      "model_module_version": "1.0.0",
      "model_name": "LayoutModel",
      "state": {
       "_model_module_version": "1.0.0",
       "_view_module_version": "1.0.0"
      }
     },
     "a668848518bb4a2bbebde2ed71b2d82b": {
      "model_module": "@jupyter-widgets/controls",
      "model_module_version": "1.1.0",
      "model_name": "SliderStyleModel",
      "state": {
       "_model_module_version": "1.1.0",
       "_view_module_version": "1.0.0",
       "description_width": ""
      }
     },
     "b41f10baa45d4309ac3e5e73f7ea9f70": {
      "model_module": "@jupyter-widgets/output",
      "model_module_version": "1.0.0",
      "model_name": "OutputModel",
      "state": {
       "layout": "IPY_MODEL_d343ad8c29c24a5995b772473ddd0471",
       "outputs": [
        {
         "data": {
          "image/png": "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\n",
          "text/plain": "<matplotlib.figure.Figure at 0x1262a07b8>"
         },
         "metadata": {},
         "output_type": "display_data"
        }
       ]
      }
     },
     "c9e9945311a146b68d3b5ebbe8a2783f": {
      "model_module": "@jupyter-widgets/output",
      "model_module_version": "1.0.0",
      "model_name": "OutputModel",
      "state": {
       "layout": "IPY_MODEL_43e85443a291479ab8dee4800cc629f0",
       "outputs": [
        {
         "data": {
          "image/png": "iVBORw0KGgoAAAANSUhEUgAAAX8AAAD8CAYAAACfF6SlAAAABHNCSVQICAgIfAhkiAAAAAlwSFlzAAALEgAACxIB0t1+/AAAADl0RVh0U29mdHdhcmUAbWF0cGxvdGxpYiB2ZXJzaW9uIDIuMS4yLCBodHRwOi8vbWF0cGxvdGxpYi5vcmcvNQv5yAAAIABJREFUeJzt3Xd4VVW+xvHvSqeEEhJaIIRA6J1QBRQRRRRQRxSwjgW7zFVn7pQ7jte5M9cZx4IVwd4QcXRklBmaKB0JvSchBJIAgVASAoSQZN0/cvDGmEAgJ2ef8n6e5zw5ZeesH5udNytrr7O2sdYiIiKBJcjpAkRExPMU/iIiAUjhLyISgBT+IiIBSOEvIhKAFP4iIgFI4S8iEoAU/iIiAUjhLyISgEKcLqAq0dHRNj4+3ukyRER8ytq1a3OttTHn285rwz8+Pp7k5GSnyxAR8SnGmD3V2U7DPiIiAUjhLyISgBT+IiIBSOEvIhKAFP4iIgFI4S8iEoAU/iIiAUjhLyJeo6TU8tWmfazbe9TpUvyeWz7kZYx5G7gWOGit7VbJ6waYCowGTgJ3WmvXuaNtEfF91lrmbT3A3+ankHawgOj6YSx+4jIiI0KdLs1vuavn/y4w6hyvXw0kum6Tgdfd1K6I+DBrLUtSDjH2leXc/+E6rLX85upOHD5RxCuL05wuz6+5pedvrV1ijIk/xybjgPettRZYZYxpZIxpYa3d7472RcT3JGcc4dl5O1m9+wixjerwt/E9ua5XS0KCg0g7WMA7yzKY1D+ONk3qOV2qX/LUmH8skFnucZbrOREJMFv35XHXu2u4cdpKdh06wX+P7co3T1zKjX1bERJcFkm/vKojIcGGP8/d7nC1/stTC7uZSp6zP9nImMmUDQsRFxdX2zWJiAelHyrg+QUpfLVpPw0iQvjVqI7cOTieumE/jaGmDSJ4aHh7np23kxW7chncLtqBiv2bp8I/C2hd7nErYF/Fjay104HpAElJST/55SAivmffsVO8tCiV2WuzCA8J4uHh7bl3WAIN65z7ZO7dQ9ry8eq9PP3PbXz96FCCgyrrQ8rF8lT4zwEeNsZ8AgwA8jTeL+LfcgtO89riXXy4qmyF4dsHteHBy9oTExlere+PCA3mt6M789DH65i1JpNJAzQa4E7umuo5E7gMiDbGZAF/AEIBrLXTgLmUTfNMo2yq58/d0a6IeJ+8U2d4c2k6by3bTeGZEsb3bc2jVyQS26jOBb/X6O7N6R8fxXPzd3JtzxY00NRPt3HXbJ+J53ndAg+5oy0R8T65BadZuC2H+dtyWJaWS1FxKdf0aMFjIzvQLqb+Rb+vMYYnx3RhzCvLeOWbNH47urMbqw5sXnslLxHxbnsPn2T+tgPM23qA5D1HsRZaNa7DbQPbcEOfWLq2bOiWdrrFNmR831a8s3w3k/rHER+tqZ/uoPAXkWqx1rJtfz7ztuYwf+sBdhw4DkDnFg2YMiKRK7s0p3OLSMo+0O9eT1zVka837edPc7cz4/Ykt79/IFL4i0iVSkotazKOMH9rDvO3HSDr6CmMgX5tovivazpzZZfmxDWpW+t1NI2M4KHL2/PXf+9keVoul7TX1M+aUviLyI8UnilhWWou87YeYNGOgxw5UURYSBBD20fzyOXtGdG5GdH1qzdjx53uuqQtM7/fyx+/2sZXjwz54QNhcnEU/iLygyMnirhx2grSD50gMiKEyzs15aquzRnWIYb64c7GRURoML+9ujMPfLSOWcmZ3DKgjaP1+DqFv4gAZT3+e99PJuvoKV6/pQ8jOjcjLMS7etejujWnf9sonpufwrU9Wp73g2JSNe/6nxURR5SWWh7/dCNr9xzlxZt7cXX3Fl4X/OCa+nltF46eLOKVb1KdLsened//roh43F/m7eDrzfv57ehOjO7ewulyzqlbbENu6tuad1dksDv3hNPl+CyFv0iA+3DVHt74Lp3bBrbh3qEJTpdTLU9c1ZHwkGD+9LVW/bxYCn+RALZ4x0Ge/HILl3dqyh/GdKmVOfq1ISYynIeGt2fh9hyWpeY6XY5PUviLBKgt2Xk89PE6urRswMsTe/vc1Mm7hsQTF1WXP361jeKSUqfL8Tm+9b8tIm6RfewUd727hkZ1Qnn7jn7Uc3ga58UIDwnmt6M7sTPnODPXZJ7/G+RHFP4iASa/8Ax3vbOGU0UlvPPz/jRtEOF0SRftqq7NGZgQxfPzd5J36ozT5fgUhb9IACkqLuWBD9ey61AB027rS8fmkU6XVCPGGH5/bReOnTrDS4s09fNCKPxFAoS1lt9+sZnlaYd55mc9/GZ9nK4tGzKhX2veW5FB+qECp8vxGQp/kQDx8jdpfLY2iykjErmxbyuny3Grx0Z2JCJUUz8vhMJfJAB8vi6L5xekcEOfWH5xRaLT5bhdTGQ4j1zenkU7DrIk5ZDT5fgEhb+In1uxK5f//PsmBiU04ZkbevjMXP4Ldecl8bRpUpf/+VpTP6tD4S/ix1JzjnPfB2uJb1KPabf19cr1etylbOpnZ1JyCvjAddF4qZr/HgkiAe7g8ULufGcNEaHBvPPzfgGxAuaVXZoxrEMM//P1dj5fl+V0OV5N4S/ih04WFXP3u8kcOVHEW3ck0apx7V9tyxsYY3j9lj4MaBvFY59u5IOVGU6X5LUU/iJ+pqTU8ujM9Wzdl8fLE3vTo1Ujp0vyqHrhIbx9Zz+u6NyM33+5lVcXpzldkldS+Iv4mT/P3c7C7Qd5amxXrujSzOlyHBERGszrt/ZhXK+WPDtvJ8/8awfWWqfL8iq+t6CHiFQpNec4by/fzS0D4rh9ULzT5TgqNDiIF27qRf3wEKZ9t4uC02d4emw3goL8c7bThVL4i/iRFxamUDc0mMev7Oh0KV4hKMjwP9d1o35ECG98l05BYTHPju9JqI+tYFobFP4ifmJLdh5zNx/g0cvbE1UvzOlyvIYxht9c3ZkGEaE8O28nJ4pKeHlibyJCg50uzVH69SfiJ15YkEKDiBDu9pGrcXnaQ8Pb899ju7JgWw53v7eGE6eLnS7JUQp/ET+wbu9RFu04yH2XtguI+fwX647B8Tw3vicrdx3m1rdWk3cycJeBVviL+IHn56cQVS+MOwfHO12K1/tZ31a8dktftmbnM2HGKg4dP+10SY5Q+Iv4uJW7DrMsLZcHL2vnk1fkcsKobs15844kducWcPMbK8k+dsrpkjxO4S/iw6y1PL9gJ80ahHPrwDZOl+NThnWI4cO7B3Do+GnGv74i4K4FoPAX8WFLUnNZk3GUhy9PDPjZKxcjKT6KmZMHUlhcyk1vrGT7/nynS/IYhb+Ij7LW8tz8ncQ2qsPNSa2dLsdndYttyKf3DSIkKIib31jJur1HnS7JIxT+Ij5qwbYcNmXlMeWKRL9eqtkT2jetz+z7B9G4Xhi3vrma5Wm5TpdU63TEiPig0lLL8wtSaBtdjxt6xzpdjl9oHVWX2fcNonXjutzx9vfMTs50uqRapfAX8UFfb97PjgPH+cUViYRoqQK3adoggk/vH8SAhCh++dkmnp23g9JS/1wQTkeNiI8pLinlhYUpdGwWyZgeLZ0ux+80rBPKuz/vz4R+rXl18S4e+WQ9hWdKnC7L7TQpWMTH/GPDPtIPnWDarX21QmUtCQ0O4n9v6E7b6Ho88+8d7Dt2ihm3JxFdP9zp0txGPX8RH1JUXMrURSl0i23AVV0Dc61+TzHGcN+l7Xj9lj5s35/Pda8uJzXnuNNluY1bwt8YM8oYs9MYk2aM+XUlr99pjDlkjNngut3jjnZFAs3stZlkHjnF41d2xBj1+j1hVLcWzJo8iNPFpdzw2gqWph5yuiS3qHH4G2OCgVeBq4EuwERjTJdKNp1lre3lur1Z03ZFAk3hmRJeXpRG3zaNuaxDjNPlBJSerRvxj4cuIbZxHe58Zw0zv9/rdEk15o6ef38gzVqbbq0tAj4BxrnhfUWknI9X7+VAfiGPX9lBvX4HxDaqw+z7BzGkfTS/+Xwz/zt3u0/PBHJH+McC5SfEZrmeq+hnxphNxpjPjDH6OKLIBThZVMxr36YxuF0TBreLdrqcgBUZEcpbdyRx68A43liSzgMfreVUkW/OBHJH+FfWBan46/CfQLy1tgewEHiv0jcyZrIxJtkYk3zokH+Mq4m4w3sr9pBbUMTjV3ZwupSAFxIcxB/HdeP313Zh/rYcbp6+koP5hU6XdcHcEf5ZQPmefCtgX/kNrLWHrbVnF82eAfSt7I2stdOttUnW2qSYGI1pigDkF55h2ne7GN4xhr5topwuRyibCXT3kLZMvy2J1JwCrnt1OTsO+NaicO4I/zVAojGmrTEmDJgAzCm/gTGmRbmHY4HtbmhXJCC8vWw3eafO8NhIXZTd24zs0ozZ9w+ixFpufH0li3cedLqkaqtx+Ftri4GHgXmUhfqn1tqtxpinjTFjXZs9aozZaozZCDwK3FnTdkUCwdETRby1dDejujane6uGTpcjlegW25B/PHQJcVF1ufvdNXywMsPpkqrFLZ/wtdbOBeZWeO7Jcvd/A/zGHW2JBJLpS9MpKCrmP0ZqrN+btWhYNhPo0Znr+f2XWzl68gyPjkh0uqxz0id8RbzUoeOneXd5BmN7tqRj80iny5HzqBcewvTbkxjVtTmvfZtGfqF3Xxxe4S/ipV7/dhdFJaVM8fIepPy/4CDDg8PbUXimlC/XZztdzjkp/EW80P68U3y4eg8/6xNLQkx9p8uRC9A9tiFdWzbgo9V7sdZ7PwSm8BfxQq98k4a1lkcuV6/f1xhjmNg/jh0HjrMxK8/pcqqk8BfxMplHTjJrTSYT+sXROqqu0+XIRRjXqyV1QoOZudp71wBS+It4mamLUgkOMjx8eXunS5GLFBkRytieLZmzcR/HvfTEr8JfxItk5J7gi/XZ3DqwDc0aRDhdjtTAxAFxnDpTwpcb9p1/Ywco/EW8yMvfpBEabLjv0gSnS5Ea6tmqIZ1bNOBjLz3xq/AX8RIZuSf4x4Zsbh3QhqaR6vX7OmMMk/q3Ztv+fDZ54Ylfhb+Ilzjb65+sXr/fGNc7tuzErxde/EXhL+IF1Ov3Tw0iQhnTs4VXnvhV+It4AfX6/dfE/nGcLCphzkbvOvGr8BdxmHr9/q1X60Z0ah7pdUM/Cn8Rh6nX79+MMUwaEMeW7Hw2e9GJX4W/iIPU6w8M43rFEhEaxMde1PtX+Is4SL3+wNCwTijX9mjJnA3ZFJwudrocQOEv4hj1+gPLxP5xnCgq4Z9ecuJX4S/iEPX6A0ufuEZ0bBbJx16y2JvCX8QB6vUHnrMnfjdn53nFiV+Fv4gD1OsPTNf1jiU8JIiZa5zv/Sv8RTxMvf7AdfbE75frsznh8Ilfhb+Ih6nXH9gmDWjtFSd+Ff4iHqRev/SJa0yHZvUd/8Svwl/Eg9Trl7PX+N2YlceWbOdO/Cr8RTxEvX4563rXid9PHDzxq/AX8RD1+uWsRnXDuKZ7C/6xfh8ni5w58avwF/EA9fqlokkD4ig4XcxXG/c70r7CX8QD1OuXivq2aUxi0/p85NCJX4W/SC1Tr18q88OJ38xjbN3n+RO/Cn+RWqZev1Tlhj6xhIUE8cn3mR5vW+EvUovU65dz+f8Tv9keP/Gr8BepRer1y/lM7B/H8dPFfLXJsyd+Ff4itUS9fqmOfvGNaRdTz+Of+FX4i9QS9fqlOs6e+F2/9xjb9+d7rF2Fv0gtUK9fLsTP+rRynfj1XO9f4S9SC9TrlwvRuF4Yo7s15/P12ZwqKvFImwp/ETdTr18uxsT+cRwvLOarTZ5Z6tkvw7+4pJTSUut0GRKgXlqUql6/XLD+baNI8OCJX78L/72HT3L5c98xf9sBp0uRAPTlhmw+X5/NnYPbqtcvF8QYw6T+cazbe4wdB2r/xK9bwt8YM8oYs9MYk2aM+XUlr4cbY2a5Xl9tjIl3R7uViW1cB4DXv0vHWvX+xXM2Z+Xxq8820b9tFI+N7OB0OeKDbujTirBgz3zit8bhb4wJBl4Frga6ABONMV0qbHY3cNRa2x54AfhLTdutSnCQ4d5hCWzMPMaq9CO11YzIjxw6fprJHyQTXT+c127pQ1iI3/1RLR4QVS+MUd2ak3awoNY7r+44QvsDadbadGttEfAJMK7CNuOA91z3PwNGGGOMG9qu1Pi+rYiuH8YbS3bVVhMiPygqLuXBj9Zy9GQRb9zWl+j64U6XJD7srzf24MN7BlCLEQm4J/xjgfJ/o2S5nqt0G2ttMZAHNHFD25WKCA3mzsHxfLvzkEc/NCGB6al/bmVNxlGevbEn3WIbOl2O+LiI0GCPtOOO8K/s11PFv1eqsw3GmMnGmGRjTPKhQ4dqVNStA9tQNyyY6UvSa/Q+Iufy4ao9fLx6Lw9c1o4xPVs6XY5Itbkj/LOA1uUetwIqTlT9YRtjTAjQEPjJgLy1drq1NslamxQTE1OjohrVDWNi/zjmbNxH1tGTNXovkcqsTj/MU3O2MrxjDE9c2dHpckQuiDvCfw2QaIxpa4wJAyYAcypsMwe4w3X/RuAb64GpOHcPaYsB3ly6u7abkgCTdfQkD360jrgmdZk6sTfBQbU7PivibjUOf9cY/sPAPGA78Km1dqsx5mljzFjXZm8BTYwxacBjwE+mg9aGlo3qMLZXS2atyeToiSJPNCkB4FRRCZPfX0tRcSkzbk+iQUSo0yWJXDC3zEez1s611naw1raz1v7J9dyT1to5rvuF1trx1tr21tr+1lqPDcTfN6wdp86U8P7KPZ5qUvyYtZZffraR7QfyeWlib9rF1He6JJGL4veTkTs2j+TyTk15b2WGxxZMEv/1+ne7+GrTfn51VSeGd2rqdDkiF83vwx/g/kvbceREEbPXev46meI/vtmRw7PzdjKmZ0vu17o94uMCIvz7xTemd1wjpi9Jp7ik1OlyxAelHSxgyswNdGnRgL/+rEetfwBHpLYFRPgbY7j/0nZkHT3F3C1a8E0uTN6pM0x+P5mwkCCm355EnTDPfAhHpDYFRPgDjOzcjISYekz7dpcWfJNqKym1TPlkPXuPnOT1W/sS26iO0yWJuEXAhH9QkOG+YQls25/PsrRcp8sRH/HsvJ18u/MQT43tSv+2UU6XI+I2ARP+ANf1jqVpZDjTvtOCb3J+X27IZtp3u5g0II5bB7ZxuhwRtwqo8A8PCeauIW1ZnnaYzVl5TpcjXmxLdh7/+fdN9ItvzFNjujpdjojbBVT4A0waEEdkeAjTtNyzVCG34DST308mqm4Yr93SV2vzi18KuKO6QUQotwxsw78272fP4RNOlyNexlrLIx+v5/CJIqbfnkRMpNbmF/8UcOEPcNcl8YQEBTFjqZZ7lh/7NuUQK9MP81/XdNba/OLXAjL8mzaI4IY+scxOziK34LTT5YiXsNby4sJUYhvV4eZ+cU6XI1KrAjL8Ae4dlkBRSSnvLs9wuhTxEt+lHGJj5jEeGt5e4/zi9wL2CG8XU58ruzTj/ZUZnDhd7HQ54rDyvf4b+7ZyuhyRWhew4Q9lC77lFxYz8/u9TpciDluSmsuGzGM8OLydev0SEAL6KO8d15j+baN4a9luzmjBt4BV1utPoWXDCMb3bX3+bxDxAwEd/gAPXNqO/XmFzNlQ8bLDEiiWpuayfu8xHtRYvwSQgD/SL+sYQ8dmkbyxZBelpVrwLdD8qNefpLF+CRwBH/7GGO67NIGUnAK+TTnodDniYcvSclm39xgPDG9PeIiWapbAEfDhDzCmZ0taNoxg2rf60FcgOTvDp0XDCG5Sr18CjMIfCA0O4u6hCXyfcYS1e446XY54yPK0w6zdc5QHL2unXr8EHIW/y4R+rWlYJ5Q3tNxzQDg71t+8QQQ39dMMHwk8Cn+XeuEh3D6oDQu255B2sMDpcqSWLU87TPKeozw4XL1+CUwK/3LuGBxPWHAQM5Zo7N+fWWuZusjV609Sr18Ck8K/nOj64dyU1Jov1meTk1/odDlSS1bsOsyajKM8cFk7IkLV65fApPCv4N6hCZRYy5++3q4Lvfshay1TF6bSrEE4N2usXwKYwr+CuCZ1+cWIROZs3McX67OdLkfcbOWuw3yfcYQHLlWvXwKbwr8SDw5vT//4KH7/jy262pcfsdby4qJUmkaGM6G/1uuXwKbwr0RwkOGFCb0IDjI8+skGLfrmJ1amH+b73Ud4UGP9Igr/qsQ2qsOfb+jOxsxjvLgwxelyxA2mLlSvX+Qshf85XNujJTclteK1b3exKv2w0+VIDazcdZjVu49oho+Ii8L/PP4wpivxTerxH7M2cOxkkdPlyEWauiiFmMhwJqrXLwIo/M+rXngIL03oTW7BaX79982a/umDVqUfZlW6ZviIlKfwr4burRryxJUd+ffWA8xak+l0OXKBpi5MJSYynEkD1OsXOUvhX033Dk3gkvZN+O9/btPaPz5kdfphVqYf5n71+kV+ROFfTUFBhudv6kVEaBBTPlnP6eISp0uSapi6KJXo+uHcol6/yI8o/C9AswYR/PXGnmzdl8/f5u10uhw5j+93H2HFrsPcf2mCev0iFSj8L9DILs24bWAbZizdzZKUQ06XI+cwdVGKq9ffxulSRLyOwv8i/O6aziQ2rc9jn24kt+C00+VIJdZkHGF5Wlmvv06Yev0iFdUo/I0xUcaYBcaYVNfXxlVsV2KM2eC6zalJm94gIjSYlyb2Jr/wDL/6bJOmf3qhqQtTia4fpl6/SBVq2vP/NbDIWpsILHI9rswpa20v121sDdv0Cp1bNOC3V3fimx0HeX/lHqfLkXKSM46wLC2X+4a1U69fpAo1Df9xwHuu++8B19Xw/XzKHYPjGd4xhj/N3c6OA/lOlyMuZTN8wrhloGb4iFSlpuHfzFq7H8D1tWkV20UYY5KNMauMMX7zC8IYw7Pje9IgIpQpMzdQeEbTP532/e4jLE3NZfKwBOqGhThdjojXOm/4G2MWGmO2VHIbdwHtxFlrk4BJwIvGmHZVtDXZ9Usi+dAh35hJE10/nOdu6snOnOP879ztTpcT0Ky1PDd/JzGR4dw2MN7pckS82nnD31p7hbW2WyW3L4EcY0wLANfXg1W8xz7X13TgW6B3FdtNt9YmWWuTYmJiLvKf5HmXdojhniFteW/lHhZtz3G6nIC1wrVy54OXaaxf5HxqOuwzB7jDdf8O4MuKGxhjGhtjwl33o4FLgG01bNfr/HJUR7q0aMAvP9vEQV383ePO9vpbNIzQyp0i1VDT8H8GGGmMSQVGuh5jjEkyxrzp2qYzkGyM2QgsBp6x1vpd+IeHlE3/PFlUzOOzN1JaqumfnvRtyiHW7T3Gw5e316d5RaqhRmfErLWHgRGVPJ8M3OO6vwLoXpN2fEX7pvX5w5iu/ObzzXyyJlOrSHqItZYXFqTQqnEdxvdt7XQ5Ij5Bn/B1swn9WtOrdSPeWLKLEvX+PWLBthw2ZeXx6IhEwkJ0SItUh35S3MwYw33DEthz+CQLth1wuhy/V1pqeX5BCm2j63FD71inyxHxGQr/WnBl1+bERdVl+pJ0p0vxe//acoAdB44zZUQiIcE6nEWqSz8ttSA4yHD3kLas23uMtXuOOF2O3yoptbywMIXEpvUZ07Ol0+WI+BSFfy0Zn9SKhnVC1fuvRXM2ZpN2sIBfXNGB4CDjdDkiPkXhX0vqhoVw28A2zN+WQ0buCafL8TvFJaVMXZhKp+aRXN2tudPliPgchX8tun1wG0KDgnhr2W6nS/E7n6/LJuPwSR4b2YEg9fpFLpjCvxY1jYzg+t6xzF6byZETRU6X4zeKikuZuiiVHq0aMrJLM6fLEfFJCv9ads/QthSeKeXDVVrz310+Tc4k+9gpHhvZAWPU6xe5GAr/WpbYLJLLOzXlvRUZWvLZDQrPlPDKN2n0bdOYSzv4zuJ/It5G4e8B9wxty+ETRXyxPtvpUnzezO/3ciC/kMfV6xepEYW/BwxKaEK32AbMWJquBd9q4FRRCa8u3sXAhCgGt492uhwRn6bw9wBjDPcOTSD90AkW76z0kgdSDR+syiC34DSPX9nR6VJEfJ7C30NGd29BbKM6+tDXRSo4Xcy079IZmhhNv/gop8sR8XkKfw8JDQ7i55fEs3r3ETZmHnO6HJ/z3ooMjpwoUq9fxE0U/h40oX8ckREhzFiq3v+FyDt1hje+28WITk3p1bqR0+WI+AWFvwfVDw9h0oA45m7eT+aRk06X4zPeWrab/MJi/mNkB6dLEfEbCn8Pu3NwPEHG8PZyLflQHUdPFPH2st1c3a053WIbOl2OiN9Q+HtYi4Z1GNuzJbPWZJJ38ozT5Xi96UvTOVGkXr+Iuyn8HXDP0AROFpXw8fd7nS7Fq+UWnObd5RmM6dGSDs0inS5HxK8o/B3QpWUDhiZG887y3RQVlzpdjtea9u0uTheXMOWKRKdLEfE7Cn+H3Ds0gYPHTzNn4z6nS/FKOfmFfLBqD9f3bkW7mPpOlyPidxT+DhmaGE2n5pHMWJKOtVryoaLXFqdRUmqZMkK9fpHaoPB3yNklH3bmHGdJaq7T5XiV7GOnmPl9JuOTWhHXpK7T5Yj4JYW/g8b0bEmzBuHM0JIPP/LyolQAHr5cvX6R2qLwd1BYSBB3Dm7LsrRctu3Ld7ocxxWcLubxTzfyyZpMbhkYR2yjOk6XJOK3FP4OmzQgjnphwbwZ4Es+bMg8xjUvLeWL9Vk8OiKR343u7HRJIn5N4e+whnVCublfHHM27mN/3imny/G4klLLq4vTuPH1FRSXWGbdN4jHRnYgJFiHpkht0k+YF/j5JfFY4N3lGU6X4lH7805xy5ureHbeTq7q1py5U4ZquWYRD1H4e4HWUXUZ3b0FH6/ey/HCwFjy4d9b9jPqxaVsysrj2Rt78MrE3jSsE+p0WSIBQ+HvJe4d2pbjp4uZtSbT6VJq1cmiYn7z+Sbu/3AdbZrU5etHhzI+qbWuxyviYQp/L9GjVSMGtI3i7WW7OVPin0s+bMnO49qXl/HJmkweuKwdn90/mLbR9ZwuSyQgKfy9yORhCezLK2Tu5v1Ol+JWpaWWGUvSuf615Zw8XcJH9wzgP0d1IixEh5+IU0KcLkD+3/COTWkXU48ZS9MZ27OlXwyFHMwv5PHZG1njD5LPAAAI7UlEQVSamstVXZvxzA09aFwvzOmyRAKeul5eJCiobMmHLdn5/HOT7/f+F27LYdTUpazJOMKfr+/OtFv7KvhFvITC38tc1zuWDs3q8+jM9Tz00TqfnPtfeKaEJ7/cwj3vJ9O8QQRfPTKESQPi/OIvGRF/oWEfLxMRGsych4cwY0k6ryxOY/HOgzxyeSJ3D2nr9WPkpaWWuVv28/yCFNIPneCeIW355aiOhIcEO12aiFRgvHU54aSkJJucnOx0GY7KPHKSP361jfnbckiIqcfTY7sxJDHa6bJ+orTU8q8tB5i6KIWUnALaN63Pk9d2YViHGKdLEwk4xpi11tqk826n8Pd+i3cc5Kl/bmXP4ZNc070F/3VtZ1o0dH7Rs9JSy7ytB5i6KJUdB47TLqYeU67owDXdWxAcpCEeESdUN/xrNOxjjBkPPAV0BvpbaytNa2PMKGAqEAy8aa19pibtBprhnZoyqF0TrxkKKi21zN92gBcXloV+Qkw9pk7oxbU9Wir0RXxEjXr+xpjOQCnwBvBEZeFvjAkGUoCRQBawBphord12rvdWz79ymUdO8vRX21jgwFCQtZb523J4cWEq2/fnkxBdj0dHJDKmp0JfxFt4pOdvrd3uauxcm/UH0qy16a5tPwHGAecMf6lc66i6zLg96YehoFvfWl3rQ0HWWha4Qn/b/nzaRtfjhZt7MqZHS62+KeKjPDHbJxYov2BNFjDAA+36NU8MBVlrWbj9IC8uTGHrvnzim9TlufE9GddLoS/i684b/saYhUDzSl76nbX2y2q0UdmfBZWONRljJgOTAeLi4qrx1oEtIjSYR0Ykcl3vWJ7+aht/+fcOZq/NrPFQkLWWb3Yc5MWFqWzOzqNNk7r8bXxPrlPoi/iN84a/tfaKGraRBbQu97gVsK+KtqYD06FszL+G7QaMyoaCgoMMQQaCjCHIGIKDDMbgev7srdzjoLJtg42h8EwJ+/IKaR1Vh7/e2IPre8cSqtAX8SueGPZZAyQaY9oC2cAEYJIH2g04Z4eCZidnkpN/mlJrKbEWa8uumFVSarGu50pt2aydUmspKeWH50tKLRaYkhjNDX1aKfRF/FRNp3peD7wMxABfG2M2WGuvMsa0pGxK52hrbbEx5mFgHmVTPd+21m6tceVSqYjQYG4bFO90GSLi5Wo62+cL4ItKnt8HjC73eC4wtyZtiYiI++hvehGRAKTwFxEJQAp/EZEApPAXEQlACn8RkQCk8BcRCUAKfxGRAOS1F3MxxhwC9tTgLaKBXDeVUxtUX82ovppRfTXjzfW1sdae9zJ6Xhv+NWWMSa7OmtZOUX01o/pqRvXVjLfXVx0a9hERCUAKfxGRAOTP4T/d6QLOQ/XVjOqrGdVXM95e33n57Zi/iIhUzZ97/iIiUgWfDn9jzChjzE5jTJox5teVvB5ujJnlen21MSbeg7W1NsYsNsZsN8ZsNcZMqWSby4wxecaYDa7bk56qr1wNGcaYza72kyt53RhjXnLtw03GmD4erK1juX2zwRiTb4z5RYVtPLoPjTFvG2MOGmO2lHsuyhizwBiT6vrauIrvvcO1Taox5g4P1vesMWaH6//vC2NMoyq+95zHQi3W95QxJrvc/+HoKr73nD/vtVjfrHK1ZRhjNlTxvbW+/9zKWuuTN8ouDLMLSADCgI1AlwrbPAhMc92fAMzyYH0tgD6u+5FASiX1XQZ85fB+zACiz/H6aOBflF2LeSCw2sH/7wOUzWF2bB8Cw4A+wJZyz/0V+LXr/q+Bv1TyfVFAuutrY9f9xh6q70ogxHX/L5XVV51joRbrewp4ohr//+f8ea+t+iq8/hzwpFP7z503X+759wfSrLXp1toi4BNgXIVtxgHvue5/BowwxlR2QXm3s9but9auc90/DmwHYj3RtpuNA963ZVYBjYwxLRyoYwSwy1pbkw/+1Zi1dglwpMLT5Y+z94DrKvnWq4AF1toj1tqjwAJglCfqs9bOt9YWux6uouw62o6oYv9VR3V+3mvsXPW5suMmYKa723WCL4d/LJBZ7nEWPw3XH7ZxHfx5QBOPVFeOa7ipN7C6kpcHGWM2GmP+ZYzp6tHCylhgvjFmrTFmciWvV2c/e8IEqv6hc3ofNrPW7oeyX/pA00q28Zb9eBdlf8lV5nzHQm162DUs9XYVw2besP+GAjnW2tQqXndy/10wXw7/ynrwFacuVWebWmWMqQ/8HfiFtTa/wsvrKBvG6EnZtZD/4cnaXC6x1vYBrgYeMsYMq/C6N+zDMGAsMLuSl71hH1aHN+zH3wHFwEdVbHK+Y6G2vA60A3oB+ykbWqnI8f0HTOTcvX6n9t9F8eXwzwJal3vcCthX1TbGmBCgIRf3J+dFMcaEUhb8H1lrP6/4urU231pb4Lo/Fwg1xkR7qj5Xu/tcXw9Sdj3m/hU2qc5+rm1XA+ustTkVX/CGfQjknB0Kc309WMk2ju5H1wnma4FbrGuAuqJqHAu1wlqbY60tsdaWAjOqaNfp/RcC3ADMqmobp/bfxfLl8F8DJBpj2rp6hhOAORW2mQOcnVVxI/BNVQe+u7nGB98Ctltrn69im+Znz0EYY/pT9v9x2BP1udqsZ4yJPHufshODWypsNge43TXrZyCQd3aIw4Oq7HE5vQ9dyh9ndwBfVrLNPOBKY0xj17DGla7nap0xZhTwn8BYa+3JKrapzrFQW/WVP4d0fRXtVufnvTZdAeyw1mZV9qKT+++iOX3GuSY3ymaipFA2C+B3rueepuwgB4igbKggDfgeSPBgbUMo+7N0E7DBdRsN3A/c79rmYWArZTMXVgGDPbz/Elxtb3TVcXYflq/RAK+69vFmIMnDNdalLMwblnvOsX1I2S+h/cAZynqjd1N2HmkRkOr6GuXaNgl4s9z33uU6FtOAn3uwvjTKxsvPHodnZ8C1BOae61jwUH0fuI6tTZQFeouK9bke/+Tn3RP1uZ5/9+wxV25bj+8/d970CV8RkQDky8M+IiJykRT+IiIBSOEvIhKAFP4iIgFI4S8iEoAU/iIiAUjhLyISgBT+IiIB6P8AngX7cWw5mb4AAAAASUVORK5CYII=\n",
          "text/plain": "<matplotlib.figure.Figure at 0x11ed64b00>"
         },
         "metadata": {},
         "output_type": "display_data"
        }
       ]
      }
     },
     "cc22ecf73c4940de88a6b70a349e9f73": {
      "model_module": "@jupyter-widgets/output",
      "model_module_version": "1.0.0",
      "model_name": "OutputModel",
      "state": {
       "layout": "IPY_MODEL_89f2b2d8744c407aaad4225dfdce733a",
       "outputs": [
        {
         "data": {
          "image/png": "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\n",
          "text/plain": "<matplotlib.figure.Figure at 0x12666ae80>"
         },
         "metadata": {},
         "output_type": "display_data"
        }
       ]
      }
     },
     "d343ad8c29c24a5995b772473ddd0471": {
      "model_module": "@jupyter-widgets/base",
      "model_module_version": "1.0.0",
      "model_name": "LayoutModel",
      "state": {
       "_model_module_version": "1.0.0",
       "_view_module_version": "1.0.0"
      }
     },
     "e7c3be35ec39466e9d882b4c8741cd9c": {
      "model_module": "@jupyter-widgets/base",
      "model_module_version": "1.0.0",
      "model_name": "LayoutModel",
      "state": {
       "_model_module_version": "1.0.0",
       "_view_module_version": "1.0.0"
      }
     },
     "f78f8115245447af8e4b27def9e9a36b": {
      "model_module": "@jupyter-widgets/controls",
      "model_module_version": "1.1.0",
      "model_name": "SliderStyleModel",
      "state": {
       "_model_module_version": "1.1.0",
       "_view_module_version": "1.0.0",
       "description_width": ""
      }
     }
    },
    "version_major": 2,
    "version_minor": 0
   }
  }
 },
 "nbformat": 4,
 "nbformat_minor": 2
}
